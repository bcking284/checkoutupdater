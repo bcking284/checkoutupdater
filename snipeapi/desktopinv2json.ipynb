{
 "cells": [
  {
   "cell_type": "code",
   "execution_count": 14,
   "metadata": {},
   "outputs": [
    {
     "name": "stdout",
     "output_type": "stream",
     "text": [
      "    SerialNumber    UserName\n",
      "0        HPT6QV2     KMATES \n",
      "1        JR2DQV2    DGIFFIN \n",
      "2        608WQN2   CHILBURN \n",
      "3        GVVCR32    CHERRON \n",
      "4        8DG60R2  JSIMINSKI \n",
      "..           ...         ...\n",
      "738      DGSXTF2   AHENSLEY \n",
      "739      2DL3K32  CBUILDING \n",
      "740      8TJ0VF2    APORTER \n",
      "741      3M7RNV2     JSTICE \n",
      "742      DFY90R2     BBONDS \n",
      "\n",
      "[743 rows x 2 columns]\n"
     ]
    }
   ],
   "source": [
    "import json\n",
    "import pandas as pd\n",
    "import csv\n",
    "\n",
    "dcidf = pd.read_csv(\"Desktop Computer Inventory.csv\")\n",
    "\n",
    "# dci_hostnames = dcidf[\"HostName\"]\n",
    "print(dcidf[[\"SerialNumber\",\"UserName\"]])\n"
   ]
  },
  {
   "cell_type": "code",
   "execution_count": 22,
   "metadata": {},
   "outputs": [
    {
     "name": "stdout",
     "output_type": "stream",
     "text": [
      "dt_object1 = 2020-08-26 09:48:02\n",
      "2020-08-27 10:01:35.543031\n",
      "yes\n"
     ]
    }
   ],
   "source": [
    "\n",
    "from datetime import datetime\n",
    "\n",
    "dt_string = \"08/26/2020 09:48:02\"\n",
    "\n",
    "# Considering date is in dd/mm/yyyy format\n",
    "dt_object1 = datetime.strptime(dt_string, \"%m/%d/%Y %H:%M:%S\")\n",
    "print(\"dt_object1 =\", dt_object1)\n",
    "\n",
    "print(datetime.now())\n",
    "difference = datetime.now() - dt_object1\n",
    "# if difference < timedelta(days=1):\n",
    "#     print('timedelta is less than 1 day')\n",
    "# else:\n",
    "#     print('timedelta is not less than 1 day')\n",
    "\n",
    "if difference.days < 2:\n",
    "    print('yes')\n",
    "\n"
   ]
  },
  {
   "cell_type": "code",
   "execution_count": 7,
   "metadata": {},
   "outputs": [
    {
     "name": "stdout",
     "output_type": "stream",
     "text": [
      "1 day, 0:00:07.244471\n"
     ]
    }
   ],
   "source": []
  },
  {
   "cell_type": "code",
   "execution_count": null,
   "metadata": {},
   "outputs": [],
   "source": []
  }
 ],
 "metadata": {
  "kernelspec": {
   "display_name": "Python 3",
   "language": "python",
   "name": "python3"
  },
  "language_info": {
   "codemirror_mode": {
    "name": "ipython",
    "version": 3
   },
   "file_extension": ".py",
   "mimetype": "text/x-python",
   "name": "python",
   "nbconvert_exporter": "python",
   "pygments_lexer": "ipython3",
   "version": "3.8.3"
  }
 },
 "nbformat": 4,
 "nbformat_minor": 4
}
